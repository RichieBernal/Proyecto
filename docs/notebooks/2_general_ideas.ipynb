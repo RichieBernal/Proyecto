{
  "cells": [
    {
      "cell_type": "markdown",
      "id": "aa7ded84",
      "metadata": {
        "id": "aa7ded84",
        "papermill": {
          "duration": 0.029674,
          "end_time": "2022-05-08T11:48:30.657052",
          "exception": false,
          "start_time": "2022-05-08T11:48:30.627378",
          "status": "completed"
        },
        "tags": []
      },
      "source": [
        "# **Using Logistic Regression to classify the results of the 'Acoustic Extinguisher Fire Dataset'**"
      ]
    },
    {
      "cell_type": "markdown",
      "id": "d740c20f",
      "metadata": {
        "id": "d740c20f",
        "papermill": {
          "duration": 0.027391,
          "end_time": "2022-05-08T11:48:30.712665",
          "exception": false,
          "start_time": "2022-05-08T11:48:30.685274",
          "status": "completed"
        },
        "tags": []
      },
      "source": [
        "## **Let's import the core libraries**"
      ]
    },
    {
      "cell_type": "code",
      "execution_count": 1,
      "id": "fd29b986",
      "metadata": {
        "colab": {
          "base_uri": "https://localhost:8080/"
        },
        "execution": {
          "iopub.execute_input": "2022-05-08T11:48:30.770466Z",
          "iopub.status.busy": "2022-05-08T11:48:30.769844Z",
          "iopub.status.idle": "2022-05-08T11:48:44.774400Z",
          "shell.execute_reply": "2022-05-08T11:48:44.773258Z"
        },
        "id": "fd29b986",
        "outputId": "c968116d-6df9-4ac8-88a5-b7fd77a5667c",
        "papermill": {
          "duration": 14.036641,
          "end_time": "2022-05-08T11:48:44.777154",
          "exception": false,
          "start_time": "2022-05-08T11:48:30.740513",
          "status": "completed"
        },
        "tags": []
      },
      "outputs": [
        {
          "name": "stdout",
          "output_type": "stream",
          "text": [
            "Requirement already satisfied: openpyxl in /usr/local/lib/python3.10/dist-packages (3.1.2)\n",
            "Requirement already satisfied: et-xmlfile in /usr/local/lib/python3.10/dist-packages (from openpyxl) (1.1.0)\n"
          ]
        }
      ],
      "source": [
        "! pip install openpyxl"
      ]
    },
    {
      "cell_type": "code",
      "execution_count": 2,
      "id": "0e0b8b94",
      "metadata": {
        "execution": {
          "iopub.execute_input": "2022-05-08T11:48:44.844049Z",
          "iopub.status.busy": "2022-05-08T11:48:44.842925Z",
          "iopub.status.idle": "2022-05-08T11:48:46.303763Z",
          "shell.execute_reply": "2022-05-08T11:48:46.302672Z"
        },
        "id": "0e0b8b94",
        "papermill": {
          "duration": 1.496815,
          "end_time": "2022-05-08T11:48:46.306737",
          "exception": false,
          "start_time": "2022-05-08T11:48:44.809922",
          "status": "completed"
        },
        "tags": []
      },
      "outputs": [],
      "source": [
        "import numpy as np\n",
        "import pandas as pd\n",
        "import matplotlib.pyplot as plt\n",
        "import seaborn as sns\n",
        "import warnings\n",
        "import re\n",
        "\n",
        "from scipy.stats import skew\n",
        "from sklearn.base import BaseEstimator, TransformerMixin\n",
        "from joblib import dump, load\n",
        "\n",
        "from sklearn.linear_model import LogisticRegression\n",
        "from sklearn.preprocessing import OrdinalEncoder\n",
        "from sklearn.model_selection import train_test_split\n",
        "from sklearn.preprocessing import StandardScaler\n",
        "from sklearn.metrics import accuracy_score, confusion_matrix, classification_report\n",
        "\n",
        "warnings.filterwarnings('ignore')"
      ]
    },
    {
      "cell_type": "markdown",
      "id": "f1c3ad40",
      "metadata": {},
      "source": [
        "## 1. Data retrieval"
      ]
    },
    {
      "cell_type": "markdown",
      "id": "698644f0",
      "metadata": {
        "id": "698644f0",
        "papermill": {
          "duration": 0.032285,
          "end_time": "2022-05-08T11:48:46.371611",
          "exception": false,
          "start_time": "2022-05-08T11:48:46.339326",
          "status": "completed"
        },
        "tags": []
      },
      "source": [
        "   ### *Now read data from local file .csv*"
      ]
    },
    {
      "cell_type": "code",
      "execution_count": null,
      "id": "410bc705",
      "metadata": {},
      "outputs": [],
      "source": [
        "DATASETS_DIR = 'datasets/' \n",
        "RETRIEVED_DATA = 'raw-data.csv'\n",
        "\n",
        "def data_retrieval(url):\n",
        "     \n",
        "    # Loading data from specific url\n",
        "    data = pd.read_csv(url)\n",
        "    \n",
        "    data.to_csv(DATASETS_DIR + RETRIEVED_DATA, index=False)\n",
        "    \n",
        "    return print('Data stored in {}'.format(DATASETS_DIR + RETRIEVED_DATA))"
      ]
    },
    {
      "cell_type": "code",
      "execution_count": null,
      "id": "0a1cc51c",
      "metadata": {},
      "outputs": [],
      "source": [
        "URL = 'C:/Users/rbernal/Documents/GitHub/Proyecto/FAE/data/data_fire.csv'\n",
        "data_retrieval(URL)\n",
        "df = pd.read_csv(DATASETS_DIR + RETRIEVED_DATA)"
      ]
    },
    {
      "cell_type": "code",
      "execution_count": 9,
      "id": "654d1864",
      "metadata": {
        "colab": {
          "base_uri": "https://localhost:8080/",
          "height": 224
        },
        "execution": {
          "iopub.execute_input": "2022-05-08T11:48:46.437765Z",
          "iopub.status.busy": "2022-05-08T11:48:46.437437Z",
          "iopub.status.idle": "2022-05-08T11:48:49.304110Z",
          "shell.execute_reply": "2022-05-08T11:48:49.303471Z"
        },
        "id": "654d1864",
        "outputId": "f08e3bbf-fdaf-4c7c-997e-715ab1d7ac83",
        "papermill": {
          "duration": 2.903798,
          "end_time": "2022-05-08T11:48:49.307971",
          "exception": false,
          "start_time": "2022-05-08T11:48:46.404173",
          "status": "completed"
        },
        "tags": []
      },
      "outputs": [
        {
          "name": "stdout",
          "output_type": "stream",
          "text": [
            "Drive already mounted at /content/drive; to attempt to forcibly remount, call drive.mount(\"/content/drive\", force_remount=True).\n"
          ]
        },
        {
          "data": {
            "text/html": [
              "\n",
              "  <div id=\"df-ad7fadc9-1d40-43e5-96d4-342211885acc\" class=\"colab-df-container\">\n",
              "    <div>\n",
              "<style scoped>\n",
              "    .dataframe tbody tr th:only-of-type {\n",
              "        vertical-align: middle;\n",
              "    }\n",
              "\n",
              "    .dataframe tbody tr th {\n",
              "        vertical-align: top;\n",
              "    }\n",
              "\n",
              "    .dataframe thead th {\n",
              "        text-align: right;\n",
              "    }\n",
              "</style>\n",
              "<table border=\"1\" class=\"dataframe\">\n",
              "  <thead>\n",
              "    <tr style=\"text-align: right;\">\n",
              "      <th></th>\n",
              "      <th>SIZE</th>\n",
              "      <th>FUEL</th>\n",
              "      <th>DISTANCE</th>\n",
              "      <th>DESIBEL</th>\n",
              "      <th>AIRFLOW</th>\n",
              "      <th>FREQUENCY</th>\n",
              "      <th>STATUS</th>\n",
              "    </tr>\n",
              "  </thead>\n",
              "  <tbody>\n",
              "    <tr>\n",
              "      <th>0</th>\n",
              "      <td>1</td>\n",
              "      <td>gasoline</td>\n",
              "      <td>10</td>\n",
              "      <td>96</td>\n",
              "      <td>0.0</td>\n",
              "      <td>75</td>\n",
              "      <td>0</td>\n",
              "    </tr>\n",
              "    <tr>\n",
              "      <th>1</th>\n",
              "      <td>1</td>\n",
              "      <td>gasoline</td>\n",
              "      <td>10</td>\n",
              "      <td>96</td>\n",
              "      <td>0.0</td>\n",
              "      <td>72</td>\n",
              "      <td>1</td>\n",
              "    </tr>\n",
              "    <tr>\n",
              "      <th>2</th>\n",
              "      <td>1</td>\n",
              "      <td>gasoline</td>\n",
              "      <td>10</td>\n",
              "      <td>96</td>\n",
              "      <td>2.6</td>\n",
              "      <td>70</td>\n",
              "      <td>1</td>\n",
              "    </tr>\n",
              "    <tr>\n",
              "      <th>3</th>\n",
              "      <td>1</td>\n",
              "      <td>gasoline</td>\n",
              "      <td>10</td>\n",
              "      <td>96</td>\n",
              "      <td>3.2</td>\n",
              "      <td>68</td>\n",
              "      <td>1</td>\n",
              "    </tr>\n",
              "    <tr>\n",
              "      <th>4</th>\n",
              "      <td>1</td>\n",
              "      <td>gasoline</td>\n",
              "      <td>10</td>\n",
              "      <td>109</td>\n",
              "      <td>4.5</td>\n",
              "      <td>67</td>\n",
              "      <td>1</td>\n",
              "    </tr>\n",
              "  </tbody>\n",
              "</table>\n",
              "</div>\n",
              "    <div class=\"colab-df-buttons\">\n",
              "\n",
              "  <div class=\"colab-df-container\">\n",
              "    <button class=\"colab-df-convert\" onclick=\"convertToInteractive('df-ad7fadc9-1d40-43e5-96d4-342211885acc')\"\n",
              "            title=\"Convert this dataframe to an interactive table.\"\n",
              "            style=\"display:none;\">\n",
              "\n",
              "  <svg xmlns=\"http://www.w3.org/2000/svg\" height=\"24px\" viewBox=\"0 -960 960 960\">\n",
              "    <path d=\"M120-120v-720h720v720H120Zm60-500h600v-160H180v160Zm220 220h160v-160H400v160Zm0 220h160v-160H400v160ZM180-400h160v-160H180v160Zm440 0h160v-160H620v160ZM180-180h160v-160H180v160Zm440 0h160v-160H620v160Z\"/>\n",
              "  </svg>\n",
              "    </button>\n",
              "\n",
              "  <style>\n",
              "    .colab-df-container {\n",
              "      display:flex;\n",
              "      gap: 12px;\n",
              "    }\n",
              "\n",
              "    .colab-df-convert {\n",
              "      background-color: #E8F0FE;\n",
              "      border: none;\n",
              "      border-radius: 50%;\n",
              "      cursor: pointer;\n",
              "      display: none;\n",
              "      fill: #1967D2;\n",
              "      height: 32px;\n",
              "      padding: 0 0 0 0;\n",
              "      width: 32px;\n",
              "    }\n",
              "\n",
              "    .colab-df-convert:hover {\n",
              "      background-color: #E2EBFA;\n",
              "      box-shadow: 0px 1px 2px rgba(60, 64, 67, 0.3), 0px 1px 3px 1px rgba(60, 64, 67, 0.15);\n",
              "      fill: #174EA6;\n",
              "    }\n",
              "\n",
              "    .colab-df-buttons div {\n",
              "      margin-bottom: 4px;\n",
              "    }\n",
              "\n",
              "    [theme=dark] .colab-df-convert {\n",
              "      background-color: #3B4455;\n",
              "      fill: #D2E3FC;\n",
              "    }\n",
              "\n",
              "    [theme=dark] .colab-df-convert:hover {\n",
              "      background-color: #434B5C;\n",
              "      box-shadow: 0px 1px 3px 1px rgba(0, 0, 0, 0.15);\n",
              "      filter: drop-shadow(0px 1px 2px rgba(0, 0, 0, 0.3));\n",
              "      fill: #FFFFFF;\n",
              "    }\n",
              "  </style>\n",
              "\n",
              "    <script>\n",
              "      const buttonEl =\n",
              "        document.querySelector('#df-ad7fadc9-1d40-43e5-96d4-342211885acc button.colab-df-convert');\n",
              "      buttonEl.style.display =\n",
              "        google.colab.kernel.accessAllowed ? 'block' : 'none';\n",
              "\n",
              "      async function convertToInteractive(key) {\n",
              "        const element = document.querySelector('#df-ad7fadc9-1d40-43e5-96d4-342211885acc');\n",
              "        const dataTable =\n",
              "          await google.colab.kernel.invokeFunction('convertToInteractive',\n",
              "                                                    [key], {});\n",
              "        if (!dataTable) return;\n",
              "\n",
              "        const docLinkHtml = 'Like what you see? Visit the ' +\n",
              "          '<a target=\"_blank\" href=https://colab.research.google.com/notebooks/data_table.ipynb>data table notebook</a>'\n",
              "          + ' to learn more about interactive tables.';\n",
              "        element.innerHTML = '';\n",
              "        dataTable['output_type'] = 'display_data';\n",
              "        await google.colab.output.renderOutput(dataTable, element);\n",
              "        const docLink = document.createElement('div');\n",
              "        docLink.innerHTML = docLinkHtml;\n",
              "        element.appendChild(docLink);\n",
              "      }\n",
              "    </script>\n",
              "  </div>\n",
              "\n",
              "\n",
              "<div id=\"df-351ccb2b-20b9-4ee6-9ba4-4aabda9b794f\">\n",
              "  <button class=\"colab-df-quickchart\" onclick=\"quickchart('df-351ccb2b-20b9-4ee6-9ba4-4aabda9b794f')\"\n",
              "            title=\"Suggest charts.\"\n",
              "            style=\"display:none;\">\n",
              "\n",
              "<svg xmlns=\"http://www.w3.org/2000/svg\" height=\"24px\"viewBox=\"0 0 24 24\"\n",
              "     width=\"24px\">\n",
              "    <g>\n",
              "        <path d=\"M19 3H5c-1.1 0-2 .9-2 2v14c0 1.1.9 2 2 2h14c1.1 0 2-.9 2-2V5c0-1.1-.9-2-2-2zM9 17H7v-7h2v7zm4 0h-2V7h2v10zm4 0h-2v-4h2v4z\"/>\n",
              "    </g>\n",
              "</svg>\n",
              "  </button>\n",
              "\n",
              "<style>\n",
              "  .colab-df-quickchart {\n",
              "    background-color: #E8F0FE;\n",
              "    border: none;\n",
              "    border-radius: 50%;\n",
              "    cursor: pointer;\n",
              "    display: none;\n",
              "    fill: #1967D2;\n",
              "    height: 32px;\n",
              "    padding: 0 0 0 0;\n",
              "    width: 32px;\n",
              "  }\n",
              "\n",
              "  .colab-df-quickchart:hover {\n",
              "    background-color: #E2EBFA;\n",
              "    box-shadow: 0px 1px 2px rgba(60, 64, 67, 0.3), 0px 1px 3px 1px rgba(60, 64, 67, 0.15);\n",
              "    fill: #174EA6;\n",
              "  }\n",
              "\n",
              "  [theme=dark] .colab-df-quickchart {\n",
              "    background-color: #3B4455;\n",
              "    fill: #D2E3FC;\n",
              "  }\n",
              "\n",
              "  [theme=dark] .colab-df-quickchart:hover {\n",
              "    background-color: #434B5C;\n",
              "    box-shadow: 0px 1px 3px 1px rgba(0, 0, 0, 0.15);\n",
              "    filter: drop-shadow(0px 1px 2px rgba(0, 0, 0, 0.3));\n",
              "    fill: #FFFFFF;\n",
              "  }\n",
              "</style>\n",
              "\n",
              "  <script>\n",
              "    async function quickchart(key) {\n",
              "      const charts = await google.colab.kernel.invokeFunction(\n",
              "          'suggestCharts', [key], {});\n",
              "    }\n",
              "    (() => {\n",
              "      let quickchartButtonEl =\n",
              "        document.querySelector('#df-351ccb2b-20b9-4ee6-9ba4-4aabda9b794f button');\n",
              "      quickchartButtonEl.style.display =\n",
              "        google.colab.kernel.accessAllowed ? 'block' : 'none';\n",
              "    })();\n",
              "  </script>\n",
              "</div>\n",
              "    </div>\n",
              "  </div>\n"
            ],
            "text/plain": [
              "   SIZE      FUEL  DISTANCE  DESIBEL  AIRFLOW  FREQUENCY  STATUS\n",
              "0     1  gasoline        10       96      0.0         75       0\n",
              "1     1  gasoline        10       96      0.0         72       1\n",
              "2     1  gasoline        10       96      2.6         70       1\n",
              "3     1  gasoline        10       96      3.2         68       1\n",
              "4     1  gasoline        10      109      4.5         67       1"
            ]
          },
          "execution_count": 9,
          "metadata": {},
          "output_type": "execute_result"
        }
      ],
      "source": [
        "df.head()"
      ]
    },
    {
      "cell_type": "markdown",
      "id": "6d5224fb",
      "metadata": {},
      "source": [
        "## 2. Preprocess and transform data"
      ]
    },
    {
      "cell_type": "markdown",
      "id": "378b4347",
      "metadata": {},
      "source": [
        "### *Use One hot encoder for categorical var \"FUEL\"*"
      ]
    },
    {
      "cell_type": "code",
      "execution_count": 19,
      "id": "8h4i3hBP7U6a",
      "metadata": {
        "colab": {
          "base_uri": "https://localhost:8080/",
          "height": 423
        },
        "id": "8h4i3hBP7U6a",
        "outputId": "39514abb-a1d7-41aa-aae0-cd3d9616b210"
      },
      "outputs": [
        {
          "data": {
            "text/html": [
              "\n",
              "  <div id=\"df-19a3f54a-9762-4d82-878d-99a176aa511c\" class=\"colab-df-container\">\n",
              "    <div>\n",
              "<style scoped>\n",
              "    .dataframe tbody tr th:only-of-type {\n",
              "        vertical-align: middle;\n",
              "    }\n",
              "\n",
              "    .dataframe tbody tr th {\n",
              "        vertical-align: top;\n",
              "    }\n",
              "\n",
              "    .dataframe thead th {\n",
              "        text-align: right;\n",
              "    }\n",
              "</style>\n",
              "<table border=\"1\" class=\"dataframe\">\n",
              "  <thead>\n",
              "    <tr style=\"text-align: right;\">\n",
              "      <th></th>\n",
              "      <th>SIZE</th>\n",
              "      <th>FUEL</th>\n",
              "      <th>DISTANCE</th>\n",
              "      <th>DESIBEL</th>\n",
              "      <th>AIRFLOW</th>\n",
              "      <th>FREQUENCY</th>\n",
              "      <th>STATUS</th>\n",
              "      <th>kerosene</th>\n",
              "      <th>lpg</th>\n",
              "      <th>thinner</th>\n",
              "    </tr>\n",
              "  </thead>\n",
              "  <tbody>\n",
              "    <tr>\n",
              "      <th>0</th>\n",
              "      <td>1</td>\n",
              "      <td>gasoline</td>\n",
              "      <td>10</td>\n",
              "      <td>96</td>\n",
              "      <td>0.0</td>\n",
              "      <td>75</td>\n",
              "      <td>0</td>\n",
              "      <td>0</td>\n",
              "      <td>0</td>\n",
              "      <td>0</td>\n",
              "    </tr>\n",
              "    <tr>\n",
              "      <th>1</th>\n",
              "      <td>1</td>\n",
              "      <td>gasoline</td>\n",
              "      <td>10</td>\n",
              "      <td>96</td>\n",
              "      <td>0.0</td>\n",
              "      <td>72</td>\n",
              "      <td>1</td>\n",
              "      <td>0</td>\n",
              "      <td>0</td>\n",
              "      <td>0</td>\n",
              "    </tr>\n",
              "    <tr>\n",
              "      <th>2</th>\n",
              "      <td>1</td>\n",
              "      <td>gasoline</td>\n",
              "      <td>10</td>\n",
              "      <td>96</td>\n",
              "      <td>2.6</td>\n",
              "      <td>70</td>\n",
              "      <td>1</td>\n",
              "      <td>0</td>\n",
              "      <td>0</td>\n",
              "      <td>0</td>\n",
              "    </tr>\n",
              "    <tr>\n",
              "      <th>3</th>\n",
              "      <td>1</td>\n",
              "      <td>gasoline</td>\n",
              "      <td>10</td>\n",
              "      <td>96</td>\n",
              "      <td>3.2</td>\n",
              "      <td>68</td>\n",
              "      <td>1</td>\n",
              "      <td>0</td>\n",
              "      <td>0</td>\n",
              "      <td>0</td>\n",
              "    </tr>\n",
              "    <tr>\n",
              "      <th>4</th>\n",
              "      <td>1</td>\n",
              "      <td>gasoline</td>\n",
              "      <td>10</td>\n",
              "      <td>109</td>\n",
              "      <td>4.5</td>\n",
              "      <td>67</td>\n",
              "      <td>1</td>\n",
              "      <td>0</td>\n",
              "      <td>0</td>\n",
              "      <td>0</td>\n",
              "    </tr>\n",
              "    <tr>\n",
              "      <th>...</th>\n",
              "      <td>...</td>\n",
              "      <td>...</td>\n",
              "      <td>...</td>\n",
              "      <td>...</td>\n",
              "      <td>...</td>\n",
              "      <td>...</td>\n",
              "      <td>...</td>\n",
              "      <td>...</td>\n",
              "      <td>...</td>\n",
              "      <td>...</td>\n",
              "    </tr>\n",
              "    <tr>\n",
              "      <th>17437</th>\n",
              "      <td>7</td>\n",
              "      <td>lpg</td>\n",
              "      <td>190</td>\n",
              "      <td>86</td>\n",
              "      <td>2.2</td>\n",
              "      <td>5</td>\n",
              "      <td>0</td>\n",
              "      <td>0</td>\n",
              "      <td>1</td>\n",
              "      <td>0</td>\n",
              "    </tr>\n",
              "    <tr>\n",
              "      <th>17438</th>\n",
              "      <td>7</td>\n",
              "      <td>lpg</td>\n",
              "      <td>190</td>\n",
              "      <td>84</td>\n",
              "      <td>2.0</td>\n",
              "      <td>4</td>\n",
              "      <td>0</td>\n",
              "      <td>0</td>\n",
              "      <td>1</td>\n",
              "      <td>0</td>\n",
              "    </tr>\n",
              "    <tr>\n",
              "      <th>17439</th>\n",
              "      <td>7</td>\n",
              "      <td>lpg</td>\n",
              "      <td>190</td>\n",
              "      <td>80</td>\n",
              "      <td>1.5</td>\n",
              "      <td>3</td>\n",
              "      <td>0</td>\n",
              "      <td>0</td>\n",
              "      <td>1</td>\n",
              "      <td>0</td>\n",
              "    </tr>\n",
              "    <tr>\n",
              "      <th>17440</th>\n",
              "      <td>7</td>\n",
              "      <td>lpg</td>\n",
              "      <td>190</td>\n",
              "      <td>76</td>\n",
              "      <td>0.4</td>\n",
              "      <td>2</td>\n",
              "      <td>0</td>\n",
              "      <td>0</td>\n",
              "      <td>1</td>\n",
              "      <td>0</td>\n",
              "    </tr>\n",
              "    <tr>\n",
              "      <th>17441</th>\n",
              "      <td>7</td>\n",
              "      <td>lpg</td>\n",
              "      <td>190</td>\n",
              "      <td>72</td>\n",
              "      <td>0.0</td>\n",
              "      <td>1</td>\n",
              "      <td>0</td>\n",
              "      <td>0</td>\n",
              "      <td>1</td>\n",
              "      <td>0</td>\n",
              "    </tr>\n",
              "  </tbody>\n",
              "</table>\n",
              "<p>17442 rows × 10 columns</p>\n",
              "</div>\n",
              "    <div class=\"colab-df-buttons\">\n",
              "\n",
              "  <div class=\"colab-df-container\">\n",
              "    <button class=\"colab-df-convert\" onclick=\"convertToInteractive('df-19a3f54a-9762-4d82-878d-99a176aa511c')\"\n",
              "            title=\"Convert this dataframe to an interactive table.\"\n",
              "            style=\"display:none;\">\n",
              "\n",
              "  <svg xmlns=\"http://www.w3.org/2000/svg\" height=\"24px\" viewBox=\"0 -960 960 960\">\n",
              "    <path d=\"M120-120v-720h720v720H120Zm60-500h600v-160H180v160Zm220 220h160v-160H400v160Zm0 220h160v-160H400v160ZM180-400h160v-160H180v160Zm440 0h160v-160H620v160ZM180-180h160v-160H180v160Zm440 0h160v-160H620v160Z\"/>\n",
              "  </svg>\n",
              "    </button>\n",
              "\n",
              "  <style>\n",
              "    .colab-df-container {\n",
              "      display:flex;\n",
              "      gap: 12px;\n",
              "    }\n",
              "\n",
              "    .colab-df-convert {\n",
              "      background-color: #E8F0FE;\n",
              "      border: none;\n",
              "      border-radius: 50%;\n",
              "      cursor: pointer;\n",
              "      display: none;\n",
              "      fill: #1967D2;\n",
              "      height: 32px;\n",
              "      padding: 0 0 0 0;\n",
              "      width: 32px;\n",
              "    }\n",
              "\n",
              "    .colab-df-convert:hover {\n",
              "      background-color: #E2EBFA;\n",
              "      box-shadow: 0px 1px 2px rgba(60, 64, 67, 0.3), 0px 1px 3px 1px rgba(60, 64, 67, 0.15);\n",
              "      fill: #174EA6;\n",
              "    }\n",
              "\n",
              "    .colab-df-buttons div {\n",
              "      margin-bottom: 4px;\n",
              "    }\n",
              "\n",
              "    [theme=dark] .colab-df-convert {\n",
              "      background-color: #3B4455;\n",
              "      fill: #D2E3FC;\n",
              "    }\n",
              "\n",
              "    [theme=dark] .colab-df-convert:hover {\n",
              "      background-color: #434B5C;\n",
              "      box-shadow: 0px 1px 3px 1px rgba(0, 0, 0, 0.15);\n",
              "      filter: drop-shadow(0px 1px 2px rgba(0, 0, 0, 0.3));\n",
              "      fill: #FFFFFF;\n",
              "    }\n",
              "  </style>\n",
              "\n",
              "    <script>\n",
              "      const buttonEl =\n",
              "        document.querySelector('#df-19a3f54a-9762-4d82-878d-99a176aa511c button.colab-df-convert');\n",
              "      buttonEl.style.display =\n",
              "        google.colab.kernel.accessAllowed ? 'block' : 'none';\n",
              "\n",
              "      async function convertToInteractive(key) {\n",
              "        const element = document.querySelector('#df-19a3f54a-9762-4d82-878d-99a176aa511c');\n",
              "        const dataTable =\n",
              "          await google.colab.kernel.invokeFunction('convertToInteractive',\n",
              "                                                    [key], {});\n",
              "        if (!dataTable) return;\n",
              "\n",
              "        const docLinkHtml = 'Like what you see? Visit the ' +\n",
              "          '<a target=\"_blank\" href=https://colab.research.google.com/notebooks/data_table.ipynb>data table notebook</a>'\n",
              "          + ' to learn more about interactive tables.';\n",
              "        element.innerHTML = '';\n",
              "        dataTable['output_type'] = 'display_data';\n",
              "        await google.colab.output.renderOutput(dataTable, element);\n",
              "        const docLink = document.createElement('div');\n",
              "        docLink.innerHTML = docLinkHtml;\n",
              "        element.appendChild(docLink);\n",
              "      }\n",
              "    </script>\n",
              "  </div>\n",
              "\n",
              "\n",
              "<div id=\"df-278bab43-6e88-43ce-877e-7571234c4905\">\n",
              "  <button class=\"colab-df-quickchart\" onclick=\"quickchart('df-278bab43-6e88-43ce-877e-7571234c4905')\"\n",
              "            title=\"Suggest charts.\"\n",
              "            style=\"display:none;\">\n",
              "\n",
              "<svg xmlns=\"http://www.w3.org/2000/svg\" height=\"24px\"viewBox=\"0 0 24 24\"\n",
              "     width=\"24px\">\n",
              "    <g>\n",
              "        <path d=\"M19 3H5c-1.1 0-2 .9-2 2v14c0 1.1.9 2 2 2h14c1.1 0 2-.9 2-2V5c0-1.1-.9-2-2-2zM9 17H7v-7h2v7zm4 0h-2V7h2v10zm4 0h-2v-4h2v4z\"/>\n",
              "    </g>\n",
              "</svg>\n",
              "  </button>\n",
              "\n",
              "<style>\n",
              "  .colab-df-quickchart {\n",
              "    background-color: #E8F0FE;\n",
              "    border: none;\n",
              "    border-radius: 50%;\n",
              "    cursor: pointer;\n",
              "    display: none;\n",
              "    fill: #1967D2;\n",
              "    height: 32px;\n",
              "    padding: 0 0 0 0;\n",
              "    width: 32px;\n",
              "  }\n",
              "\n",
              "  .colab-df-quickchart:hover {\n",
              "    background-color: #E2EBFA;\n",
              "    box-shadow: 0px 1px 2px rgba(60, 64, 67, 0.3), 0px 1px 3px 1px rgba(60, 64, 67, 0.15);\n",
              "    fill: #174EA6;\n",
              "  }\n",
              "\n",
              "  [theme=dark] .colab-df-quickchart {\n",
              "    background-color: #3B4455;\n",
              "    fill: #D2E3FC;\n",
              "  }\n",
              "\n",
              "  [theme=dark] .colab-df-quickchart:hover {\n",
              "    background-color: #434B5C;\n",
              "    box-shadow: 0px 1px 3px 1px rgba(0, 0, 0, 0.15);\n",
              "    filter: drop-shadow(0px 1px 2px rgba(0, 0, 0, 0.3));\n",
              "    fill: #FFFFFF;\n",
              "  }\n",
              "</style>\n",
              "\n",
              "  <script>\n",
              "    async function quickchart(key) {\n",
              "      const charts = await google.colab.kernel.invokeFunction(\n",
              "          'suggestCharts', [key], {});\n",
              "    }\n",
              "    (() => {\n",
              "      let quickchartButtonEl =\n",
              "        document.querySelector('#df-278bab43-6e88-43ce-877e-7571234c4905 button');\n",
              "      quickchartButtonEl.style.display =\n",
              "        google.colab.kernel.accessAllowed ? 'block' : 'none';\n",
              "    })();\n",
              "  </script>\n",
              "</div>\n",
              "    </div>\n",
              "  </div>\n"
            ],
            "text/plain": [
              "       SIZE      FUEL  DISTANCE  DESIBEL  AIRFLOW  FREQUENCY  STATUS  \\\n",
              "0         1  gasoline        10       96      0.0         75       0   \n",
              "1         1  gasoline        10       96      0.0         72       1   \n",
              "2         1  gasoline        10       96      2.6         70       1   \n",
              "3         1  gasoline        10       96      3.2         68       1   \n",
              "4         1  gasoline        10      109      4.5         67       1   \n",
              "...     ...       ...       ...      ...      ...        ...     ...   \n",
              "17437     7       lpg       190       86      2.2          5       0   \n",
              "17438     7       lpg       190       84      2.0          4       0   \n",
              "17439     7       lpg       190       80      1.5          3       0   \n",
              "17440     7       lpg       190       76      0.4          2       0   \n",
              "17441     7       lpg       190       72      0.0          1       0   \n",
              "\n",
              "       kerosene  lpg  thinner  \n",
              "0             0    0        0  \n",
              "1             0    0        0  \n",
              "2             0    0        0  \n",
              "3             0    0        0  \n",
              "4             0    0        0  \n",
              "...         ...  ...      ...  \n",
              "17437         0    1        0  \n",
              "17438         0    1        0  \n",
              "17439         0    1        0  \n",
              "17440         0    1        0  \n",
              "17441         0    1        0  \n",
              "\n",
              "[17442 rows x 10 columns]"
            ]
          },
          "execution_count": 19,
          "metadata": {},
          "output_type": "execute_result"
        }
      ],
      "source": [
        "pd.concat([df, pd.get_dummies(df.FUEL, drop_first=True)], axis=1)"
      ]
    },
    {
      "cell_type": "markdown",
      "id": "ea129eb7",
      "metadata": {
        "id": "ea129eb7",
        "papermill": {
          "duration": 0.049721,
          "end_time": "2022-05-08T11:48:54.426350",
          "exception": false,
          "start_time": "2022-05-08T11:48:54.376629",
          "status": "completed"
        },
        "tags": []
      },
      "source": [
        "## 2. Train-test & Training model\n"
      ]
    },
    {
      "cell_type": "markdown",
      "id": "ed6b06ed",
      "metadata": {},
      "source": [
        "### Spit and Standar Scaler"
      ]
    },
    {
      "cell_type": "code",
      "execution_count": null,
      "id": "2a935c28",
      "metadata": {
        "execution": {
          "iopub.execute_input": "2022-05-08T11:48:54.872968Z",
          "iopub.status.busy": "2022-05-08T11:48:54.871692Z",
          "iopub.status.idle": "2022-05-08T11:48:54.881924Z",
          "shell.execute_reply": "2022-05-08T11:48:54.881145Z"
        },
        "id": "2a935c28",
        "papermill": {
          "duration": 0.064714,
          "end_time": "2022-05-08T11:48:54.884055",
          "exception": false,
          "start_time": "2022-05-08T11:48:54.819341",
          "status": "completed"
        },
        "tags": []
      },
      "outputs": [],
      "source": [
        "X_train, X_test, y_train, y_test = train_test_split(x, y, test_size=0.3, random_state=42)"
      ]
    },
    {
      "cell_type": "code",
      "execution_count": null,
      "id": "858fa3e3",
      "metadata": {
        "execution": {
          "iopub.execute_input": "2022-05-08T11:48:54.988161Z",
          "iopub.status.busy": "2022-05-08T11:48:54.987631Z",
          "iopub.status.idle": "2022-05-08T11:48:55.001810Z",
          "shell.execute_reply": "2022-05-08T11:48:55.000645Z"
        },
        "id": "858fa3e3",
        "papermill": {
          "duration": 0.068412,
          "end_time": "2022-05-08T11:48:55.004302",
          "exception": false,
          "start_time": "2022-05-08T11:48:54.935890",
          "status": "completed"
        },
        "tags": []
      },
      "outputs": [],
      "source": [
        "st_sc = StandardScaler()\n",
        "X_train = st_sc.fit_transform(X_train)\n",
        "X_test = st_sc.fit_transform(X_test)"
      ]
    },
    {
      "cell_type": "markdown",
      "id": "7ba61187",
      "metadata": {
        "id": "7ba61187",
        "papermill": {
          "duration": 0.049873,
          "end_time": "2022-05-08T11:48:55.105286",
          "exception": false,
          "start_time": "2022-05-08T11:48:55.055413",
          "status": "completed"
        },
        "tags": []
      },
      "source": [
        "### Training and results of the Logistic Regression model"
      ]
    },
    {
      "cell_type": "code",
      "execution_count": null,
      "id": "JbbKG2zCuGXr",
      "metadata": {
        "colab": {
          "base_uri": "https://localhost:8080/"
        },
        "id": "JbbKG2zCuGXr",
        "outputId": "6f92e11a-e92c-41c7-c870-4c94df072ab5"
      },
      "outputs": [
        {
          "name": "stdout",
          "output_type": "stream",
          "text": [
            "              precision    recall  f1-score   support\n",
            "\n",
            "           0       0.87      0.89      0.88      2614\n",
            "           1       0.89      0.87      0.88      2619\n",
            "\n",
            "    accuracy                           0.88      5233\n",
            "   macro avg       0.88      0.88      0.88      5233\n",
            "weighted avg       0.88      0.88      0.88      5233\n",
            "\n"
          ]
        }
      ],
      "source": [
        "regressor = LogisticRegression()\n",
        "regressor.fit(X_train,y_train)\n",
        "y_pred = regressor.predict(X_test)\n",
        "print(classification_report(y_test, y_pred))"
      ]
    },
    {
      "cell_type": "markdown",
      "id": "579a5210",
      "metadata": {},
      "source": [
        "### Save & Load model"
      ]
    },
    {
      "cell_type": "code",
      "execution_count": null,
      "id": "JimA10GIRyXp",
      "metadata": {
        "id": "JimA10GIRyXp"
      },
      "outputs": [],
      "source": [
        "# Save the model\n",
        "dump(regressor, 'model.joblib')\n",
        "\n",
        "# Load the model\n",
        "regressor = load('model.joblib')"
      ]
    },
    {
      "cell_type": "markdown",
      "id": "3c85c213",
      "metadata": {},
      "source": [
        "### Matrix confusion & accuracy metric"
      ]
    },
    {
      "cell_type": "code",
      "execution_count": null,
      "id": "DsYH417ovYYv",
      "metadata": {
        "colab": {
          "base_uri": "https://localhost:8080/"
        },
        "id": "DsYH417ovYYv",
        "outputId": "14019916-ae37-4695-d950-0ef6ecdfd788"
      },
      "outputs": [
        {
          "data": {
            "text/plain": [
              "array([[2332,  282],\n",
              "       [ 347, 2272]])"
            ]
          },
          "execution_count": 52,
          "metadata": {},
          "output_type": "execute_result"
        }
      ],
      "source": [
        "#Matrix Confusion\n",
        "confusion_matrix(y_test,y_pred)"
      ]
    },
    {
      "cell_type": "code",
      "execution_count": null,
      "id": "nLy3cd-QBIld",
      "metadata": {
        "colab": {
          "base_uri": "https://localhost:8080/"
        },
        "id": "nLy3cd-QBIld",
        "outputId": "3608a745-7827-49c8-ebf8-eafbb4201350"
      },
      "outputs": [
        {
          "name": "stdout",
          "output_type": "stream",
          "text": [
            "Model actual accuracy: 0.8798012612268298\n"
          ]
        }
      ],
      "source": [
        "print(f'Model actual accuracy: {accuracy_score(y_test, y_pred)}')"
      ]
    },
    {
      "cell_type": "markdown",
      "id": "29csoAAwfA-f",
      "metadata": {
        "id": "29csoAAwfA-f"
      },
      "source": []
    }
  ],
  "metadata": {
    "colab": {
      "provenance": []
    },
    "kernelspec": {
      "display_name": "Python 3",
      "language": "python",
      "name": "python3"
    },
    "language_info": {
      "codemirror_mode": {
        "name": "ipython",
        "version": 3
      },
      "file_extension": ".py",
      "mimetype": "text/x-python",
      "name": "python",
      "nbconvert_exporter": "python",
      "pygments_lexer": "ipython3",
      "version": "3.7.12"
    },
    "papermill": {
      "default_parameters": {},
      "duration": 37.489528,
      "end_time": "2022-05-08T11:48:57.624489",
      "environment_variables": {},
      "exception": null,
      "input_path": "__notebook__.ipynb",
      "output_path": "__notebook__.ipynb",
      "parameters": {},
      "start_time": "2022-05-08T11:48:20.134961",
      "version": "2.3.4"
    }
  },
  "nbformat": 4,
  "nbformat_minor": 5
}
